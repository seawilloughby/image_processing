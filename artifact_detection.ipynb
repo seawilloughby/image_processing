{
 "cells": [
  {
   "cell_type": "markdown",
   "metadata": {},
   "source": [
    "#Artifact Detection: Bubbles\n",
    "\n"
   ]
  },
  {
   "cell_type": "markdown",
   "metadata": {},
   "source": [
    "import relevant libraries:"
   ]
  },
  {
   "cell_type": "code",
   "execution_count": 22,
   "metadata": {
    "collapsed": false
   },
   "outputs": [],
   "source": [
    "import cv2\n",
    "import numpy as np\n",
    "import glob"
   ]
  },
  {
   "cell_type": "markdown",
   "metadata": {},
   "source": [
    "###Helper functions for bubble_detection:\n",
    "\n",
    "1) Filter contours:"
   ]
  },
  {
   "cell_type": "code",
   "execution_count": 9,
   "metadata": {
    "collapsed": false
   },
   "outputs": [],
   "source": [
    "def filter_by_size(contours, low_thresh = 100, up_thres = 1000):\n",
    "    '''Helper function for bubble_detection. Takes in a list of contour coordinates. \n",
    "    Filters out contours that are above or below a given threshold\n",
    "    Returns a filtered list of contours.'''\n",
    "    filtered = []\n",
    "    for c in contours:\n",
    "        area = cv2.contourArea(c)\n",
    "        if area < up_thres and area > low_thresh:\n",
    "            filtered.append(c)\n",
    "    return filtered\n",
    "            \n",
    "\n",
    "def filter_by_ratio(contours):\n",
    "    '''Helper function for bubble_detection. Takes in a list of contour coordinates. \n",
    "    Filters out contours by aspect ratio. \n",
    "    Settings were determined by trial and error. \n",
    "    Returns a filtered list of contours.'''\n",
    "    filtered = []\n",
    "    for c in contours:\n",
    "        x,y,w,h = cv2.boundingRect(c)\n",
    "        aspect_ratio = float(w)/h\n",
    "        \n",
    "        if aspect_ratio > .5 and aspect_ratio < 1:   \n",
    "            filtered.append(c)\n",
    "            \n",
    "    return filtered\n",
    "\n",
    "def filter_contours(contours):\n",
    "    '''Takes a list of potential contours as an argument.\n",
    "    Calls two filter functions, filter_by_size and filter_by_ratio, to filter contours.\n",
    "    Returns a filtered list of contours.'''\n",
    "    f_contours1 = filter_by_size(contours)\n",
    "    f_controus2 = filter_by_ratio(f_contours1)\n",
    "    return f_controus2\n",
    "        "
   ]
  },
  {
   "cell_type": "markdown",
   "metadata": {},
   "source": [
    "2) Basic image processing:"
   ]
  },
  {
   "cell_type": "code",
   "execution_count": 10,
   "metadata": {
    "collapsed": true
   },
   "outputs": [],
   "source": [
    "def fuss_with_image(img):\n",
    "    \n",
    "    '''Helper function for test_image. \n",
    "    Makes the image a little smaller, applies a blur to improve contour detection.\n",
    "    '''    \n",
    "    #make the image a little smaller for my computer (macbook air)\n",
    "    r = 500.0 / img.shape[1]\n",
    "    dim = (500, int(img.shape[0] * r))\n",
    "    # perform the actual resizing of the image and show it\n",
    "    resized = cv2.resize(img, dim, interpolation = cv2.INTER_AREA)\n",
    "    \n",
    "    img_blur = cv2.bilateralFilter(resized,9,75,75)\n",
    "    \n",
    "    return img_blur"
   ]
  },
  {
   "cell_type": "markdown",
   "metadata": {},
   "source": [
    "##Main Function: bubble_detector"
   ]
  },
  {
   "cell_type": "code",
   "execution_count": 11,
   "metadata": {
    "collapsed": false
   },
   "outputs": [],
   "source": [
    "def bubble_detector(filename):\n",
    "    '''Takes in a file as an argument. Reads the file, detects bubble-like contours,\n",
    "    and returns two arguments:\n",
    "    1) an image with the contours overlayed on the original image file\n",
    "    2) A tuple of if bubbles were found, and the number of bubbles detected.\n",
    "    '''\n",
    "    #create a default tuple, which assumes that no bubbles are detected\n",
    "    outcome = (False, 0)\n",
    "    \n",
    "    #read the file\n",
    "    img = cv2.imread(filename,0)\n",
    "    #call fuss_with_image to pre-process the image a small amount\n",
    "    image = fuss_with_image(img)\n",
    "    \n",
    "    #create the countours around identified bubbles \n",
    "    ret,thresh = cv2.threshold(image,127,255,0)\n",
    "    contours, hierarchy = cv2.findContours(thresh,cv2.RETR_TREE,cv2.CHAIN_APPROX_SIMPLE)\n",
    "    \n",
    "    #filter the list of contours to match actual bubbles\n",
    "    c = filter_contours(contours)\n",
    "    \n",
    "    #if any contours still exist after filtering them, change the outcome tuple:\n",
    "    if len(c) > 0:\n",
    "        outcome = (True, len(c))\n",
    "\n",
    "    #overlay the contours onimage\n",
    "    image = cv2.cvtColor(image,cv2.COLOR_GRAY2BGR)\n",
    "    cv2.drawContours(image,c,-1,(0,255,0),3)\n",
    "    \n",
    "    #return an image file with contours drawn on, and the outcome (were bubbles found?)\n",
    "    return image, outcome"
   ]
  },
  {
   "cell_type": "markdown",
   "metadata": {},
   "source": [
    "#Run bubble_detector:\n",
    "\n",
    "## 1) Run bubble_detector on the provided images:"
   ]
  },
  {
   "cell_type": "code",
   "execution_count": 26,
   "metadata": {
    "collapsed": false
   },
   "outputs": [
    {
     "name": "stdout",
     "output_type": "stream",
     "text": [
      "./data/images/15032_e3587904-27f8-43c5-bdc5-cb345ace7c34.png  Bubbles:  0\n",
      "./data/images/15042_0c45140a-d88c-4b14-85b9-234e990721b1.png  Bubbles:  1\n",
      "./data/images/15052_27df81d9-975f-4126-8084-f35554e8468c.png  Bubbles:  1\n",
      "./data/images/15062_e268b731-1422-4269-b0c4-d2f1ab73d9fd.png  Bubbles:  1\n",
      "./data/images/15072_cb9b597d-ee32-4e9b-8865-5f0a2b81a702.png  Bubbles:  3\n",
      "./data/images/15082_365e215d-1afd-4407-99ba-54dd70172b96.png  Bubbles:  3\n",
      "./data/images/15092_6242149e-5f21-4c55-b32a-c1f4e8263d72.png  Bubbles:  1\n",
      "./data/images/15102_4eef5851-08cf-4836-9027-66945996b224.png  Bubbles:  1\n",
      "./data/images/15112_2916139e-470c-470f-ad4d-936ee99efda3.png  Bubbles:  1\n",
      "./data/images/15122_25a62679-8c64-4fd8-a06b-9bb5f143fc43.png  Bubbles:  1\n",
      "./data/images/15132_ce241f16-7155-4903-80a5-2e4297408eb8.png  Bubbles:  0\n",
      "./data/images/15142_9915a3d9-d958-4431-9322-d37ab6f42a88.png  Bubbles:  0\n",
      "./data/images/15152_60a860de-fcc6-4d12-b82f-f09e00c3c46d.png  Bubbles:  1\n",
      "./data/images/15162_71a7b804-03a3-462d-a587-cbe4f618b794.png  Bubbles:  0\n",
      "./data/images/15172_08e4729c-2887-4eea-9695-85882837f1bd.png  Bubbles:  2\n",
      "./data/images/15182_828c7875-a9aa-4f8e-8e50-9e792e0966f1.png  Bubbles:  3\n",
      "./data/images/15192_86795e89-737e-46d6-823b-6407c7b3ad74.png  Bubbles:  3\n",
      "./data/images/15202_4f959e0a-681a-48c5-9316-e9851d6c8a76.png  Bubbles:  2\n",
      "./data/images/15212_f1409bc7-cc6a-4aad-a8c2-9867529f8ec5.png  Bubbles:  3\n",
      "./data/images/15222_8391a821-6309-4aae-abdb-481899604656.png  Bubbles:  1\n",
      "./data/images/15232_79460bb1-becc-4168-9461-65587b66203b.png  Bubbles:  3\n",
      "./data/images/15242_4a8d1e87-eed9-4cc7-90fe-84777241bbcf.png  Bubbles:  0\n",
      "./data/images/15252_7bd7c7ed-6cfb-49d9-b0f8-90a6f39678de.png  Bubbles:  1\n",
      "./data/images/15262_83c0c7c9-3cb8-42ae-ac08-1a65bb97386b.png  Bubbles:  0\n",
      "./data/images/15272_22f14098-4aab-47a4-b7bf-c15a5179c8fc.png  Bubbles:  0\n",
      "./data/images/15282_44dd878a-d50d-4e05-92b3-5214eeda755c.png  Bubbles:  4\n",
      "./data/images/15292_1aa6dba8-dd83-4846-a9b1-da437690f95d.png  Bubbles:  2\n",
      "./data/images/15302_a888f73c-d2af-46ba-8fc0-076b585df0d1.png  Bubbles:  4\n",
      "./data/images/15312_ee890629-3164-4416-a1f3-1845f68f9f41.png  Bubbles:  6\n",
      "./data/images/15322_50e72c8a-7613-408f-b114-21a5f16bf652.png  Bubbles:  7\n",
      "./data/images/15332_eb8f6c40-1330-4ce5-bc32-5769971b1d75.png  Bubbles:  3\n",
      "./data/images/15342_3f0bc306-2493-4f19-a89c-310455182c55.png  Bubbles:  1\n",
      "./data/images/15352_e6c8ab85-8f52-48e3-82e2-a6521e9ac066.png  Bubbles:  0\n",
      "./data/images/15362_5fbbac90-c628-4414-bf3a-3748c6664472.png  Bubbles:  0\n",
      "./data/images/15372_0c67e733-fdc9-4556-88ce-25ec022e96ac.png  Bubbles:  0\n",
      "./data/images/15382_135b15e9-f5a1-46d8-b958-9541c4c23ce9.png  Bubbles:  1\n",
      "./data/images/15392_430d16be-8a9f-43da-a270-89d92a161e23.png  Bubbles:  2\n",
      "./data/images/15402_fd29985c-63ab-42c2-b914-01d408b0fa4b.png  Bubbles:  1\n",
      "./data/images/15412_e23317b4-f02d-4db0-9d2b-40944e3ad848.png  Bubbles:  1\n",
      "./data/images/15422_6c019e6a-74e1-4f55-a0d9-d2374a147429.png  Bubbles:  5\n",
      "./data/images/15432_862b6a82-5c87-4429-98c1-32d1df2c938f.png  Bubbles:  4\n",
      "./data/images/15442_4bf2665e-1090-4c4b-97fd-03205c156aa6.png  Bubbles:  5\n",
      "./data/images/15452_314c87cd-8829-4451-a9aa-0ab0f974681d.png  Bubbles:  10\n",
      "./data/images/15462_8127b71c-3a6c-4a2b-b151-47977fa3026e.png  Bubbles:  4\n",
      "./data/images/15472_532b2c73-a35d-4ecc-960a-845e76784df5.png  Bubbles:  8\n",
      "./data/images/15482_a1ad77fd-e34b-4db6-9692-49fa7b7a5c73.png  Bubbles:  6\n",
      "./data/images/15492_2af3c0a3-2323-4fcd-91d0-c728ce8aa0c6.png  Bubbles:  7\n",
      "./data/images/15502_2c0f52b2-92b0-4f44-afce-a528e2073ab0.png  Bubbles:  3\n",
      "./data/images/15512_fe2849b7-59db-4841-8478-4f81c9c954e7.png  Bubbles:  4\n",
      "./data/images/15522_e0652388-715c-4241-a129-18ea4fb7564c.png  Bubbles:  0\n",
      "./data/images/15532_9cd905ef-2cd2-4c9c-acbb-fdb2b0b89f75.png  Bubbles:  0\n",
      "./data/images/15542_bbab65a6-3702-4f08-82f8-5d918e59e9f7.png  Bubbles:  1\n",
      "./data/images/15552_c7e883fc-b38e-451f-b5db-c4b1f5d9cc90.png  Bubbles:  1\n",
      "./data/images/15562_01d93815-900c-4eb8-9554-6086fdbcf4b5.png  Bubbles:  0\n",
      "./data/images/15572_acadac33-f10f-4473-8b0d-cfcd3495ae7b.png  Bubbles:  0\n"
     ]
    }
   ],
   "source": [
    "def process_folder_for_images(image_list):\n",
    "    '''Processes all image files by running through through the bubble_dector function.\n",
    "    Run bubble detector by iterating over a list of files on the computer, and calling bubble_detector on every file.\n",
    "    Put the image file returned by bubble_dector into folder named 'output' '''\n",
    "\n",
    "    for scope_file in image_list[1:]:\n",
    "        #run every file through the function, bubble_detector\n",
    "\n",
    "        image, outcome = bubble_detector(scope_file)\n",
    "\n",
    "        #after each file is being processed, print out the filename and outcome\n",
    "        print scope_file, ' Bubbles: ',outcome[1]\n",
    "\n",
    "        #write a new image with bubbles traced to an output folder\n",
    "        output_name = './output/'+scope_file[14:20]+'_bubble_count_'+str(outcome[1])+'.png'\n",
    "        cv2.imwrite(output_name, image)\n",
    "        \n",
    "image_list = glob.glob(\"./data/images/*.png\")\n",
    "\n",
    "process_folder_for_images(image_list)"
   ]
  },
  {
   "cell_type": "markdown",
   "metadata": {},
   "source": [
    "## 2) Run bubble_detector on one image:"
   ]
  },
  {
   "cell_type": "code",
   "execution_count": 15,
   "metadata": {
    "collapsed": false
   },
   "outputs": [
    {
     "name": "stdout",
     "output_type": "stream",
     "text": [
      "  Bubbles:  2\n"
     ]
    }
   ],
   "source": [
    "def process_one_image(filepath, output_name):\n",
    "    #call function bubble_detector\n",
    "    image, outcome = bubble_detector(filepath)\n",
    "    \n",
    "    #print result, and write output to a new file\n",
    "    print ' Bubbles: ',outcome[1]\n",
    "    cv2.imwrite(output_name, image)\n",
    "    \n",
    "filepath = 'data/images/15172_08e4729c-2887-4eea-9695-85882837f1bd.png'\n",
    "process_one_image(filepath, 'output/test.png')"
   ]
  },
  {
   "cell_type": "markdown",
   "metadata": {},
   "source": [
    "\n",
    "#Example Code to View Metadata"
   ]
  },
  {
   "cell_type": "code",
   "execution_count": 6,
   "metadata": {
    "collapsed": false
   },
   "outputs": [],
   "source": [
    "import json\n",
    "filename = 'data/metadata.json'\n",
    "with open(filename, 'r') as f:\n",
    "    l = f.read()\n",
    "data = json.loads(l)"
   ]
  },
  {
   "cell_type": "markdown",
   "metadata": {},
   "source": [
    "The metadata is now in a python dictionary, and can be easily looked in potential future analysis not done in this notebook. "
   ]
  },
  {
   "cell_type": "code",
   "execution_count": 7,
   "metadata": {
    "collapsed": false
   },
   "outputs": [
    {
     "name": "stdout",
     "output_type": "stream",
     "text": [
      "Number of Images: 56 \n",
      "\n",
      "[u'stats', u'tags', u'drivers', u'time', u'offset', u'sliceIndex', u'kesmName', u'_id', u'properties', u'imageType']\n"
     ]
    }
   ],
   "source": [
    "print 'Number of Images:', len(data), '\\n'  \n",
    "print data[0].keys()  #the information associated with each image"
   ]
  },
  {
   "cell_type": "code",
   "execution_count": 8,
   "metadata": {
    "collapsed": false
   },
   "outputs": [
    {
     "name": "stdout",
     "output_type": "stream",
     "text": [
      "[u'14bcf5f8-d543-4c41-bb28-436e0f8c68ed', u'e3587904-27f8-43c5-bdc5-cb345ace7c34', u'0c45140a-d88c-4b14-85b9-234e990721b1', u'27df81d9-975f-4126-8084-f35554e8468c', u'e268b731-1422-4269-b0c4-d2f1ab73d9fd', u'cb9b597d-ee32-4e9b-8865-5f0a2b81a702', u'365e215d-1afd-4407-99ba-54dd70172b96', u'6242149e-5f21-4c55-b32a-c1f4e8263d72', u'4eef5851-08cf-4836-9027-66945996b224', u'2916139e-470c-470f-ad4d-936ee99efda3', u'25a62679-8c64-4fd8-a06b-9bb5f143fc43', u'ce241f16-7155-4903-80a5-2e4297408eb8', u'9915a3d9-d958-4431-9322-d37ab6f42a88', u'60a860de-fcc6-4d12-b82f-f09e00c3c46d', u'71a7b804-03a3-462d-a587-cbe4f618b794', u'08e4729c-2887-4eea-9695-85882837f1bd', u'828c7875-a9aa-4f8e-8e50-9e792e0966f1', u'86795e89-737e-46d6-823b-6407c7b3ad74', u'4f959e0a-681a-48c5-9316-e9851d6c8a76', u'f1409bc7-cc6a-4aad-a8c2-9867529f8ec5', u'8391a821-6309-4aae-abdb-481899604656', u'79460bb1-becc-4168-9461-65587b66203b', u'4a8d1e87-eed9-4cc7-90fe-84777241bbcf', u'7bd7c7ed-6cfb-49d9-b0f8-90a6f39678de', u'83c0c7c9-3cb8-42ae-ac08-1a65bb97386b', u'22f14098-4aab-47a4-b7bf-c15a5179c8fc', u'44dd878a-d50d-4e05-92b3-5214eeda755c', u'1aa6dba8-dd83-4846-a9b1-da437690f95d', u'a888f73c-d2af-46ba-8fc0-076b585df0d1', u'ee890629-3164-4416-a1f3-1845f68f9f41', u'50e72c8a-7613-408f-b114-21a5f16bf652', u'eb8f6c40-1330-4ce5-bc32-5769971b1d75', u'3f0bc306-2493-4f19-a89c-310455182c55', u'e6c8ab85-8f52-48e3-82e2-a6521e9ac066', u'5fbbac90-c628-4414-bf3a-3748c6664472', u'0c67e733-fdc9-4556-88ce-25ec022e96ac', u'135b15e9-f5a1-46d8-b958-9541c4c23ce9', u'430d16be-8a9f-43da-a270-89d92a161e23', u'fd29985c-63ab-42c2-b914-01d408b0fa4b', u'e23317b4-f02d-4db0-9d2b-40944e3ad848', u'6c019e6a-74e1-4f55-a0d9-d2374a147429', u'862b6a82-5c87-4429-98c1-32d1df2c938f', u'4bf2665e-1090-4c4b-97fd-03205c156aa6', u'314c87cd-8829-4451-a9aa-0ab0f974681d', u'8127b71c-3a6c-4a2b-b151-47977fa3026e', u'532b2c73-a35d-4ecc-960a-845e76784df5', u'a1ad77fd-e34b-4db6-9692-49fa7b7a5c73', u'2af3c0a3-2323-4fcd-91d0-c728ce8aa0c6', u'2c0f52b2-92b0-4f44-afce-a528e2073ab0', u'fe2849b7-59db-4841-8478-4f81c9c954e7', u'e0652388-715c-4241-a129-18ea4fb7564c', u'9cd905ef-2cd2-4c9c-acbb-fdb2b0b89f75', u'bbab65a6-3702-4f08-82f8-5d918e59e9f7', u'c7e883fc-b38e-451f-b5db-c4b1f5d9cc90', u'01d93815-900c-4eb8-9554-6086fdbcf4b5', u'acadac33-f10f-4473-8b0d-cfcd3495ae7b']\n"
     ]
    }
   ],
   "source": [
    "#example: Get a list of all the ids\n",
    "print [picturedict['_id'] for picturedict in data]    "
   ]
  },
  {
   "cell_type": "code",
   "execution_count": null,
   "metadata": {
    "collapsed": true
   },
   "outputs": [],
   "source": []
  }
 ],
 "metadata": {
  "kernelspec": {
   "display_name": "Python 2",
   "language": "python",
   "name": "python2"
  },
  "language_info": {
   "codemirror_mode": {
    "name": "ipython",
    "version": 2
   },
   "file_extension": ".py",
   "mimetype": "text/x-python",
   "name": "python",
   "nbconvert_exporter": "python",
   "pygments_lexer": "ipython2",
   "version": "2.7.10"
  }
 },
 "nbformat": 4,
 "nbformat_minor": 0
}
